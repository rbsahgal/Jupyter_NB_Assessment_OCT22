{
 "cells": [
  {
   "cell_type": "code",
   "execution_count": 7,
   "id": "ba705a7e",
   "metadata": {},
   "outputs": [],
   "source": [
    "import sys\n",
    "import os\n",
    "os.environ['TF_CPP_MIN_LOG_LEVEL'] = '2'\n",
    "import itertools\n",
    "import numpy as np\n",
    "import tensorflow as tf\n",
    "import matplotlib.pyplot as plt\n",
    "import PIL\n",
    "import tensorflow_hub as hub\n",
    "\n",
    "from tensorflow import keras\n",
    "from keras import layers\n",
    "from keras.preprocessing.image import ImageDataGenerator"
   ]
  },
  {
   "cell_type": "code",
   "execution_count": 2,
   "id": "75a25ebd",
   "metadata": {},
   "outputs": [],
   "source": [
    "# Dataset details \n",
    "image_height = 150\n",
    "image_width = 150\n",
    "number_of_channels = 3\n",
    "number_of_classes = 6"
   ]
  },
  {
   "cell_type": "code",
   "execution_count": 3,
   "id": "06ec1fee",
   "metadata": {},
   "outputs": [],
   "source": [
    "#Hyper-Parameters\n",
    "batch_size = 128\n",
    "NUMBER_OF_EPOCHS = 10\n",
    "LEARNING_RATE = 0.001"
   ]
  },
  {
   "cell_type": "code",
   "execution_count": 4,
   "id": "ded52b47",
   "metadata": {},
   "outputs": [
    {
     "name": "stdout",
     "output_type": "stream",
     "text": [
      "############-------- START --------############\n",
      "This code run on on Python version :  3.10.8 (tags/v3.10.8:aaaf517, Oct 11 2022, 16:50:30) [MSC v.1933 64 bit (AMD64)]\n",
      "The Tensorflow version used is : 2.10.0\n"
     ]
    }
   ],
   "source": [
    "print(\"############-------- START --------############\")\n",
    "print(\"This code run on on Python version : \", sys.version)\n",
    "# Print statement check tensorflow is running\n",
    "print(\"The Tensorflow version used is : \" + tf. __version__)"
   ]
  },
  {
   "cell_type": "code",
   "execution_count": 5,
   "id": "9d7e26c4",
   "metadata": {},
   "outputs": [
    {
     "name": "stdout",
     "output_type": "stream",
     "text": [
      "Found 14034 files belonging to 6 classes.\n",
      "Found 3000 files belonging to 6 classes.\n",
      "['buildings', 'forest', 'glacier', 'mountain', 'sea', 'street']\n",
      "['buildings', 'forest', 'glacier', 'mountain', 'sea', 'street']\n"
     ]
    }
   ],
   "source": [
    "# Load Image Data from local computer\n",
    "# Use seg_train folder for training\n",
    "train_set = tf.keras.preprocessing.image_dataset_from_directory(r\"E:\\Work\\vs_code\\Assessment_Oct22\\SceneryDataset\\seg_train\",\n",
    "color_mode= \"rgb\",\n",
    "batch_size=batch_size,\n",
    "image_size=(image_height, image_width),\n",
    "shuffle=True,\n",
    "seed=123)\n",
    "\n",
    "# Use seg_test folder for hold-out validation\n",
    "validation_set = tf.keras.preprocessing.image_dataset_from_directory(r\"E:\\Work\\vs_code\\Assessment_Oct22\\SceneryDataset\\seg_test\",\n",
    "color_mode= \"rgb\",\n",
    "batch_size=batch_size,\n",
    "image_size=(image_height, image_width),\n",
    "shuffle=True,\n",
    "seed=123)\n",
    "\n",
    "print(train_set.class_names)\n",
    "print(validation_set.class_names)"
   ]
  },
  {
   "cell_type": "code",
   "execution_count": null,
   "id": "d899f760",
   "metadata": {},
   "outputs": [],
   "source": [
    "# Build the model\n",
    "AUTOTUNE = tf.data.AUTOTUNE\n",
    "\n",
    "base_model = tf.keras.applications.MobileNetV2(input_shape=(image_height, image_width, 3),\n",
    "                                               include_top=False,\n",
    "                                               weights='imagenet')\n",
    "\n",
    "image_batch, label_batch = next(iter(train_dataset))\n",
    "feature_batch = base_model(image_batch)\n",
    "print(feature_batch.shape)\n",
    "\n",
    "base_model.trainable = False\n",
    "\n",
    "global_average_layer = tf.keras.layers.GlobalAveragePooling2D()\n",
    "feature_batch_average = global_average_layer(feature_batch)\n",
    "print(feature_batch_average.shape)\n",
    "\n",
    "prediction_layer = tf.keras.layers.Dense(1)\n",
    "prediction_batch = prediction_layer(feature_batch_average)\n",
    "print(prediction_batch.shape)\n",
    "\n",
    "\n",
    "class_names = train_set.class_names\n",
    "for image_batch, labels_batch in train_set:\n",
    "  print(image_batch.shape)\n",
    "  print(labels_batch.shape)\n",
    "  break\n",
    "\n",
    "# Data augmentation - options - flipped left-right as mirror,introduced perturbations in contrast and brightness and rotated by delta\n",
    "image_augmentation = keras.Sequential(\n",
    "    [       \n",
    "        layers.RandomFlip(mode=\"horizontal\",\n",
    "                        input_shape=(image_height,\n",
    "                                    image_width,\n",
    "                                    3)),\n",
    "        layers.RandomContrast(factor=0.1,),\n",
    "        layers.RandomBrightness(factor=0.15),\n",
    "        layers.RandomRotation(0.1)\n",
    "    ]\n",
    ")\n",
    "\n",
    "train_set = train_set.cache().prefetch(buffer_size=AUTOTUNE)\n",
    "validation_set = validation_set.cache().prefetch(buffer_size=AUTOTUNE)\n",
    "\n",
    "# Model creation - this model includes dropout regularization\n",
    "model = tf.keras.Sequential([\n",
    "  image_augmentation,\n",
    "  tf.keras.layers.Rescaling(1./255),\n",
    "  tf.keras.layers.Conv2D(32, 3,padding='same', activation='relu'),\n",
    "  tf.keras.layers.MaxPooling2D(),\n",
    "  tf.keras.layers.Conv2D(32, 3,padding='same', activation='relu'),\n",
    "  tf.keras.layers.MaxPooling2D(),\n",
    "  tf.keras.layers.Conv2D(64, 3,padding='same', activation='relu'),\n",
    "  tf.keras.layers.MaxPooling2D(),\n",
    "  tf.keras.layers.Conv2D(64, 3,padding='same', activation='relu'),\n",
    "  tf.keras.layers.MaxPooling2D(),\n",
    "  layers.Dropout(0.2),\n",
    "  tf.keras.layers.Flatten(),\n",
    "  tf.keras.layers.Dense(128, activation='relu'),\n",
    "  tf.keras.layers.Dense(number_of_classes)\n",
    "])\n",
    "\n",
    "prediction_layer = tf.keras.layers.Dense(1)\n",
    "prediction_batch = prediction_layer(feature_batch_average)\n",
    "print(prediction_batch.shape)\n",
    "\n",
    "inputs = tf.keras.Input(shape=(160, 160, 3))\n",
    "x = data_augmentation(inputs)\n",
    "x = preprocess_input(x)\n",
    "x = base_model(x, training=False)\n",
    "x = global_average_layer(x)\n",
    "x = tf.keras.layers.Dropout(0.2)(x)\n",
    "outputs = prediction_layer(x)\n",
    "model = tf.keras.Model(inputs, outputs)\n",
    "\n",
    "base_learning_rate = 0.0001\n",
    "model.compile(optimizer=tf.keras.optimizers.Adam(learning_rate=base_learning_rate),\n",
    "              loss=tf.keras.losses.BinaryCrossentropy(from_logits=True),\n",
    "              metrics=['accuracy'])\n"
   ]
  },
  {
   "cell_type": "code",
   "execution_count": null,
   "id": "b3e5172c",
   "metadata": {},
   "outputs": [],
   "source": [
    "history = model.fit(\n",
    "  train_set,\n",
    "  validation_data=validation_set,\n",
    "  epochs=NUMBER_OF_EPOCHS,\n",
    "  callbacks=[lr_scheduler_callback]\n",
    ")\n"
   ]
  },
  {
   "cell_type": "code",
   "execution_count": null,
   "id": "9bfe0875",
   "metadata": {},
   "outputs": [],
   "source": [
    "loss = history.history['loss']\n",
    "val_loss = history.history['val_loss']\n",
    "\n",
    "plt.figure(figsize=(8, 8))\n",
    "plt.subplot(2, 1, 1)\n",
    "plt.plot(acc, label='Training Accuracy')\n",
    "plt.plot(val_acc, label='Validation Accuracy')\n",
    "plt.legend(loc='lower right')\n",
    "plt.ylabel('Accuracy')\n",
    "plt.ylim([min(plt.ylim()),1])\n",
    "plt.title('Training and Validation Accuracy')\n",
    "\n",
    "plt.subplot(2, 1, 2)\n",
    "plt.plot(loss, label='Training Loss')\n",
    "plt.plot(val_loss, label='Validation Loss')\n",
    "plt.legend(loc='upper right')\n",
    "plt.ylabel('Cross Entropy')\n",
    "plt.ylim([0,1.0])\n",
    "plt.title('Training and Validation Loss')\n",
    "plt.xlabel('epoch')\n",
    "plt.show()"
   ]
  }
 ],
 "metadata": {
  "kernelspec": {
   "display_name": "Python 3 (ipykernel)",
   "language": "python",
   "name": "python3"
  },
  "language_info": {
   "codemirror_mode": {
    "name": "ipython",
    "version": 3
   },
   "file_extension": ".py",
   "mimetype": "text/x-python",
   "name": "python",
   "nbconvert_exporter": "python",
   "pygments_lexer": "ipython3",
   "version": "3.10.8"
  }
 },
 "nbformat": 4,
 "nbformat_minor": 5
}
