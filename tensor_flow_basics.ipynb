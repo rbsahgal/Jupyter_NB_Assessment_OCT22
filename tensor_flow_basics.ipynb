{
 "cells": [
  {
   "cell_type": "code",
   "execution_count": 1,
   "id": "d0ad5896",
   "metadata": {},
   "outputs": [],
   "source": [
    "import os\n",
    "os.environ['TF_CPP_MIN_LOG_LEVEL'] = '2'\n",
    "import tensorflow as tf"
   ]
  },
  {
   "cell_type": "code",
   "execution_count": 2,
   "id": "c85c0df2",
   "metadata": {},
   "outputs": [
    {
     "name": "stdout",
     "output_type": "stream",
     "text": [
      "2.10.0\n",
      "tf.Tensor(-723.40027, shape=(), dtype=float32)\n",
      "tf.Tensor(\n",
      "[[0.38133493 0.5799184 ]\n",
      " [0.34678766 0.09508794]], shape=(2, 2), dtype=float32)\n"
     ]
    }
   ],
   "source": [
    "# Print statement check tensorflow is running\n",
    "print(tf. __version__)\n",
    "print(tf.reduce_sum(tf.random.normal([1000, 1000])))\n",
    "print((tf.random.normal([2, 2])))"
   ]
  },
  {
   "cell_type": "code",
   "execution_count": 3,
   "id": "6fddd8cb",
   "metadata": {},
   "outputs": [
    {
     "name": "stdout",
     "output_type": "stream",
     "text": [
      "Initialize TF Scalar : tf.Tensor([[4.]], shape=(1, 1), dtype=float32)\n"
     ]
    }
   ],
   "source": [
    "# Tensorflow Initialization\n",
    "x = tf.constant(4, shape=(1, 1), dtype=tf.float32)\n",
    "print(\"Initialize TF Scalar : \" + str(x))"
   ]
  },
  {
   "cell_type": "code",
   "execution_count": 4,
   "id": "5e9f8f33",
   "metadata": {},
   "outputs": [
    {
     "name": "stdout",
     "output_type": "stream",
     "text": [
      "Initialize TF Array : \n",
      "tf.Tensor(\n",
      "[[1 2 3]\n",
      " [4 5 6]], shape=(2, 3), dtype=int32)\n",
      "Initialize TF Array - Identity Matrix : \n",
      "tf.Tensor(\n",
      "[[1. 0. 0.]\n",
      " [0. 1. 0.]\n",
      " [0. 0. 1.]], shape=(3, 3), dtype=float32)\n",
      "Initialize TF Array - ones : \n",
      "tf.Tensor(\n",
      "[[1. 1. 1.]\n",
      " [1. 1. 1.]\n",
      " [1. 1. 1.]\n",
      " [1. 1. 1.]], shape=(4, 3), dtype=float32)\n",
      "Initialize TF Array - zeros : \n",
      "tf.Tensor(\n",
      "[[[0. 0. 0. 0. 0.]\n",
      "  [0. 0. 0. 0. 0.]]\n",
      "\n",
      " [[0. 0. 0. 0. 0.]\n",
      "  [0. 0. 0. 0. 0.]]\n",
      "\n",
      " [[0. 0. 0. 0. 0.]\n",
      "  [0. 0. 0. 0. 0.]]], shape=(3, 2, 5), dtype=float32)\n",
      "Initialize TF Array - uniform distribution : \n",
      "tf.Tensor(\n",
      "[[0.939914   0.104954  ]\n",
      " [0.8564042  0.82511175]], shape=(2, 2), dtype=float32)\n",
      "Initialize TF Array - normal distribution : \n",
      "tf.Tensor(\n",
      "[[-0.83567715 -0.71482295  0.72993928]\n",
      " [ 0.48653027  0.90715468 -0.02969942]\n",
      " [-0.67989898 -1.29693723 -0.27238828]], shape=(3, 3), dtype=float64)\n",
      "Initialize TF Array - range : \n",
      "tf.Tensor([0 2 4 6 8], shape=(5,), dtype=int32)\n",
      "############--------END--------############\n"
     ]
    }
   ],
   "source": [
    "# Tensorflow Initialization\n",
    "x = tf.constant([[1, 2, 3], [4, 5, 6]], shape=(2, 3))\n",
    "print(\"Initialize TF Array : \") \n",
    "print(x)\n",
    "\n",
    "x = tf.eye(3)\n",
    "print(\"Initialize TF Array - Identity Matrix : \") \n",
    "print(x)\n",
    "\n",
    "\n",
    "x = tf.ones((4, 3))\n",
    "print(\"Initialize TF Array - ones : \") \n",
    "print(x)\n",
    "\n",
    "x = tf.zeros((3, 2, 5))\n",
    "print(\"Initialize TF Array - zeros : \") \n",
    "print(x)\n",
    "\n",
    "x = tf.random.uniform((2, 2), minval=0, maxval=1)\n",
    "print(\"Initialize TF Array - uniform distribution : \")\n",
    "print(x)\n",
    "\n",
    "x = tf.random.normal((3, 3), mean=0, stddev=1)\n",
    "print(\"Initialize TF Array - normal distribution : \")\n",
    "print(tf.cast(x, dtype=tf.float64))\n",
    "# tf.float (16,32,64), tf.int (8, 16, 32, 64), tf.bool\n",
    "\n",
    "x = tf.range(9)\n",
    "x = tf.range(start=0, limit=10, delta=2)\n",
    "print(\"Initialize TF Array - range : \")\n",
    "print(x)\n",
    "\n",
    "print(\"############--------END--------############\")"
   ]
  },
  {
   "cell_type": "code",
   "execution_count": 5,
   "id": "d607ea62",
   "metadata": {},
   "outputs": [
    {
     "name": "stdout",
     "output_type": "stream",
     "text": [
      "tf.Tensor([0 1 1 2 3 1 2 3], shape=(8,), dtype=int32)\n",
      "tf.Tensor([1 1 2 3 1 2 3], shape=(7,), dtype=int32)\n",
      "tf.Tensor([1 1], shape=(2,), dtype=int32)\n",
      "tf.Tensor([0 1 3 2], shape=(4,), dtype=int32)\n",
      "tf.Tensor([3 2 1 3 2 1 1 0], shape=(8,), dtype=int32)\n",
      "tf.Tensor([1 2], shape=(2,), dtype=int32)\n",
      "tf.Tensor(\n",
      "[[1 2]\n",
      " [3 4]], shape=(2, 2), dtype=int32)\n"
     ]
    }
   ],
   "source": [
    "# Math\n",
    "x = tf.constant([1, 2, 3])\n",
    "y = tf.constant([9, 8, 7])\n",
    "\n",
    "z = tf.add(x, y)\n",
    "z = x + y\n",
    "\n",
    "z = tf.subtract(x, y)\n",
    "z = x - y\n",
    "\n",
    "z = tf.divide(x, y)\n",
    "z = x / y\n",
    "\n",
    "z = tf.multiply(x, y)\n",
    "z = x * y\n",
    "\n",
    "z = tf.tensordot(x, y, axes=1)\n",
    "\n",
    "z = x ** 5\n",
    "\n",
    "x = tf.random.normal((2, 3))\n",
    "y = tf.random.normal((3, 2))\n",
    "z = tf.matmul(x, y)\n",
    "z = x @ y\n",
    "\n",
    "x = tf.random.normal((2, 2))\n",
    "\n",
    "# Indexing\n",
    "x = tf.constant([0, 1, 1, 2, 3, 1, 2, 3])\n",
    "print(x[:])\n",
    "print(x[1:])\n",
    "print(x[1:3])\n",
    "print(x[::2])\n",
    "print(x[::-1])\n",
    "\n",
    "indices = tf.constant([0, 3])\n",
    "x_indices = tf.gather(x, indices)\n",
    "\n",
    "x = tf.constant([[1, 2], [3, 4], [5, 6]])\n",
    "\n",
    "print(x[0, :])\n",
    "print(x[0:2, :])\n",
    "\n",
    "# Reshaping\n",
    "x = tf.range(9)\n",
    "\n",
    "x = tf.reshape(x, (3, 3))\n",
    "\n",
    "x = tf.transpose(x, perm=[1, 0])"
   ]
  },
  {
   "cell_type": "code",
   "execution_count": null,
   "id": "7b793131",
   "metadata": {},
   "outputs": [],
   "source": []
  }
 ],
 "metadata": {
  "kernelspec": {
   "display_name": "Python 3 (ipykernel)",
   "language": "python",
   "name": "python3"
  },
  "language_info": {
   "codemirror_mode": {
    "name": "ipython",
    "version": 3
   },
   "file_extension": ".py",
   "mimetype": "text/x-python",
   "name": "python",
   "nbconvert_exporter": "python",
   "pygments_lexer": "ipython3",
   "version": "3.10.8"
  }
 },
 "nbformat": 4,
 "nbformat_minor": 5
}
