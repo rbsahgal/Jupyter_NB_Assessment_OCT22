{
 "cells": [
  {
   "cell_type": "code",
   "execution_count": 1,
   "id": "b3876c64",
   "metadata": {},
   "outputs": [
    {
     "name": "stdout",
     "output_type": "stream",
     "text": [
      "Hello World!\n"
     ]
    }
   ],
   "source": [
    "print('Hello World!')"
   ]
  },
  {
   "cell_type": "code",
   "execution_count": 2,
   "id": "8d8a5073",
   "metadata": {},
   "outputs": [
    {
     "name": "stdout",
     "output_type": "stream",
     "text": [
      "Enter your name: Rachit\n",
      "My name is :: Rachit\n"
     ]
    }
   ],
   "source": [
    "my_name = input('Enter your name: ')\n",
    "print('My name is :: ' + my_name)"
   ]
  },
  {
   "cell_type": "code",
   "execution_count": 3,
   "id": "1bd8588e",
   "metadata": {},
   "outputs": [
    {
     "name": "stdout",
     "output_type": "stream",
     "text": [
      "Enter your year of birth:: 1984\n",
      "Rachit is 38 years old!\n"
     ]
    }
   ],
   "source": [
    "year_of_birth = int(input('Enter your year of birth:: '))\n",
    "my_age = 2022 - year_of_birth\n",
    "print(my_name + ' is ' + str(my_age) + ' years old!' )"
   ]
  },
  {
   "cell_type": "code",
   "execution_count": 6,
   "id": "85d0b809",
   "metadata": {},
   "outputs": [
    {
     "name": "stdout",
     "output_type": "stream",
     "text": [
      "Enter your school's name :: Little Flower High School\n",
      "My school's name is Little Flower High School\n",
      "I studied in \"LFHS\"\n"
     ]
    }
   ],
   "source": [
    "school_name = input(\"Enter your school's name :: \")\n",
    "print(\"My school's name is \" +  school_name)\n",
    "print('I studied in \"LFHS\"')"
   ]
  },
  {
   "cell_type": "code",
   "execution_count": 8,
   "id": "565ff047",
   "metadata": {},
   "outputs": [
    {
     "name": "stdout",
     "output_type": "stream",
     "text": [
      "Hi, This is my first example\n",
      "of\n",
      "a\n",
      "multi line\n",
      "string\n"
     ]
    }
   ],
   "source": [
    "multi_line_string_example = '''Hi, This is my first example\n",
    "of\n",
    "a\n",
    "multi line\n",
    "string'''\n",
    "print(multi_line_string_example)"
   ]
  },
  {
   "cell_type": "code",
   "execution_count": 16,
   "id": "4e22baa5",
   "metadata": {},
   "outputs": [
    {
     "name": "stdout",
     "output_type": "stream",
     "text": [
      "Print first character of my name ::R\n",
      "Print last character of my name ::t\n",
      "Print all characters of my name ::Rachit\n",
      "Print first 3 characters of my name ::Rac\n",
      "Print my name in reverse :: tihcaR\n",
      "achi\n",
      "achit\n",
      "aR\n"
     ]
    }
   ],
   "source": [
    "#Indexing examples\n",
    "print('Print first character of my name ::' + my_name[0])\n",
    "print('Print last character of my name ::' + my_name[-1])\n",
    "print('Print all characters of my name ::' + my_name[:])\n",
    "print('Print first 3 characters of my name ::' + my_name[0:3])\n",
    "print('Print my name in reverse :: ' + my_name[::-1])\n",
    "print(my_name[1:-1])\n",
    "print(my_name[1:])\n",
    "print(my_name[1::-1])\n"
   ]
  },
  {
   "cell_type": "code",
   "execution_count": 17,
   "id": "1c24f2c0",
   "metadata": {},
   "outputs": [
    {
     "name": "stdout",
     "output_type": "stream",
     "text": [
      "Rachit  is  38 years old!\n"
     ]
    }
   ],
   "source": [
    "# Formatted strings\n",
    "print(f'{my_name}  is  {str(my_age)} years old!' )\n",
    "print(f'I studied in {school_name}')"
   ]
  },
  {
   "cell_type": "code",
   "execution_count": null,
   "id": "b1f30c95",
   "metadata": {},
   "outputs": [],
   "source": []
  }
 ],
 "metadata": {
  "kernelspec": {
   "display_name": "Python 3 (ipykernel)",
   "language": "python",
   "name": "python3"
  },
  "language_info": {
   "codemirror_mode": {
    "name": "ipython",
    "version": 3
   },
   "file_extension": ".py",
   "mimetype": "text/x-python",
   "name": "python",
   "nbconvert_exporter": "python",
   "pygments_lexer": "ipython3",
   "version": "3.10.8"
  }
 },
 "nbformat": 4,
 "nbformat_minor": 5
}
